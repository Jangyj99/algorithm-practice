{
 "cells": [
  {
   "cell_type": "markdown",
   "metadata": {},
   "source": [
    "## 해시 함수 문제 - **위장**"
   ]
  },
  {
   "cell_type": "code",
   "execution_count": null,
   "metadata": {},
   "outputs": [],
   "source": [
    "def solution(clothes):\n",
    "    answer = 1\n",
    "    dict = {}\n",
    "    \n",
    "    for name, cate in clothes:\n",
    "        if cate in dict:\n",
    "            dict[cate].append(name)\n",
    "        else:\n",
    "            dict[cate] = [name]\n",
    "            \n",
    "    for v in dict.values():\n",
    "        answer *= len(v)+1\n",
    "        \n",
    "    return answer-1"
   ]
  },
  {
   "cell_type": "markdown",
   "metadata": {},
   "source": [
    "### 체크"
   ]
  },
  {
   "cell_type": "code",
   "execution_count": 1,
   "metadata": {},
   "outputs": [
    {
     "name": "stdout",
     "output_type": "stream",
     "text": [
      "{'headgear': ['yellow_hat', 'green_turban'], 'eyewear': ['blue_sunglasses']}\n"
     ]
    }
   ],
   "source": [
    "clothes = [[\"yellow_hat\", \"headgear\"], [\"blue_sunglasses\", \"eyewear\"], [\"green_turban\", \"headgear\"]]\n",
    "answer = 1\n",
    "dict = {}\n",
    "\n",
    "for name, cate in clothes:\n",
    "    if cate in dict:\n",
    "        dict[cate].append(name)\n",
    "    else:\n",
    "        dict[cate] = [name]\n",
    "\n",
    "print(dict) # 의상 종류 당 어떤게 있는지 딕셔너리로 생성"
   ]
  },
  {
   "cell_type": "code",
   "execution_count": 2,
   "metadata": {},
   "outputs": [
    {
     "name": "stdout",
     "output_type": "stream",
     "text": [
      "5\n"
     ]
    }
   ],
   "source": [
    "# 조합을 만들 때, 안입는 경우도 고려해야하기 때문에 +1씩 한 값을 곱하기\n",
    "for v in dict.values():\n",
    "    answer *= len(v)+1\n",
    "\n",
    "# 전체 다 안입는 경우도 생기기 때문에 -1을 하기\n",
    "print(answer-1)"
   ]
  },
  {
   "cell_type": "markdown",
   "metadata": {},
   "source": [
    "### 모범답안"
   ]
  },
  {
   "cell_type": "markdown",
   "metadata": {},
   "source": [
    "- Counter 클래스\n",
    "\n",
    "    중복된 데이터가 저장된 배열을 인자로 넘기면 각 원소가 몇 번씩 나오는지가 저장된 객체를 얻게 된다. \n",
    "\n",
    "- reduce() 함수\n",
    "\n",
    "    여러 개의 데이터를 대상으로 주로 누적 집계를 얻게 된다."
   ]
  },
  {
   "cell_type": "code",
   "execution_count": null,
   "metadata": {},
   "outputs": [],
   "source": [
    "def solution(clothes):\n",
    "    from collections import Counter\n",
    "    from functools import reduce\n",
    "\n",
    "    # 각 카테고리의 개수만 구하기\n",
    "    cnt = Counter([kind for name, kind in clothes])\n",
    "    answer = reduce(lambda x, y: x*(y+1), cnt.values(), 1) - 1\n",
    "    return answer"
   ]
  }
 ],
 "metadata": {
  "kernelspec": {
   "display_name": "Python 3.10.4 64-bit",
   "language": "python",
   "name": "python3"
  },
  "language_info": {
   "codemirror_mode": {
    "name": "ipython",
    "version": 3
   },
   "file_extension": ".py",
   "mimetype": "text/x-python",
   "name": "python",
   "nbconvert_exporter": "python",
   "pygments_lexer": "ipython3",
   "version": "3.10.4"
  },
  "orig_nbformat": 4,
  "vscode": {
   "interpreter": {
    "hash": "aee8b7b246df8f9039afb4144a1f6fd8d2ca17a180786b69acc140d282b71a49"
   }
  }
 },
 "nbformat": 4,
 "nbformat_minor": 2
}
