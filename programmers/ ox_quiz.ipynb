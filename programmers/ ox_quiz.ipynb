{
 "cells": [
  {
   "cell_type": "markdown",
   "metadata": {},
   "source": [
    "## **OX퀴즈**"
   ]
  },
  {
   "cell_type": "code",
   "execution_count": 6,
   "metadata": {},
   "outputs": [],
   "source": [
    "def solution(quiz):\n",
    "    answer = []\n",
    "    for q in quiz:\n",
    "        q = q.split(\" \")\n",
    "        if q[1] == '-':\n",
    "            if int(q[0])-int(q[2]) == int(q[-1]):\n",
    "                answer.append(\"O\")\n",
    "            else:\n",
    "                answer.append(\"X\")\n",
    "\n",
    "        elif q[1] == \"+\":\n",
    "            if int(q[0])+int(q[2]) == int(q[-1]):\n",
    "                answer.append(\"O\")\n",
    "            else:\n",
    "                answer.append(\"X\")\n",
    "    return answer"
   ]
  },
  {
   "cell_type": "code",
   "execution_count": 7,
   "metadata": {},
   "outputs": [
    {
     "data": {
      "text/plain": [
       "['X', 'O']"
      ]
     },
     "execution_count": 7,
     "metadata": {},
     "output_type": "execute_result"
    }
   ],
   "source": [
    "solution([\"3 - 4 = -3\", \"5 + 6 = 11\"])"
   ]
  },
  {
   "cell_type": "markdown",
   "metadata": {},
   "source": [
    "단순하게 입력받는 식이 **\"숫자 연산식 숫자 연산식 숫자\"** 로 5개의 연산자와 피연산자로 이루어져있음\n",
    "- q[0], q[2] -> 입력 숫자\n",
    "- q[1] -> '+' or '-'\n",
    "- q[-1] (q[4]와 동일) -> 결과\n",
    "\n",
    "그래서 q[1]이 플러스인지 마이너스인지 if문으로 조건을 나눈 후, 계산한 값과 결과 값이 같은지 다른지에 따라 'O', 'X'를 넣어줌"
   ]
  },
  {
   "cell_type": "markdown",
   "metadata": {},
   "source": [
    "### 모범답안"
   ]
  },
  {
   "cell_type": "markdown",
   "metadata": {},
   "source": [
    "- 파이썬 eval 함수란?\n",
    "    - 매개변수로 받은 expression(=식)을 문자열로 받아서 실행하는 함수\n",
    "    - 매개변수로 받은 expression은 파이썬에서 실행 가능한 문자열이 들어와야 한다는것이고, 문자열로 들어온 그 expression을 파이썬이 실행해줌"
   ]
  },
  {
   "cell_type": "code",
   "execution_count": null,
   "metadata": {},
   "outputs": [],
   "source": [
    "def valid(equation):\n",
    "    equation = equation.replace('=', '==')\n",
    "    return eval(equation)"
   ]
  },
  {
   "cell_type": "code",
   "execution_count": null,
   "metadata": {},
   "outputs": [],
   "source": [
    "def solution(equations):\n",
    "    return [\"O\" if valid(equation) else \"X\" for equation in equations]"
   ]
  }
 ],
 "metadata": {
  "kernelspec": {
   "display_name": "Python 3.10.4 64-bit",
   "language": "python",
   "name": "python3"
  },
  "language_info": {
   "codemirror_mode": {
    "name": "ipython",
    "version": 3
   },
   "file_extension": ".py",
   "mimetype": "text/x-python",
   "name": "python",
   "nbconvert_exporter": "python",
   "pygments_lexer": "ipython3",
   "version": "3.10.4"
  },
  "orig_nbformat": 4,
  "vscode": {
   "interpreter": {
    "hash": "aee8b7b246df8f9039afb4144a1f6fd8d2ca17a180786b69acc140d282b71a49"
   }
  }
 },
 "nbformat": 4,
 "nbformat_minor": 2
}
