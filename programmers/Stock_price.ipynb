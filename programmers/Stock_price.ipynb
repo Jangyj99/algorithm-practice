{
 "cells": [
  {
   "cell_type": "markdown",
   "metadata": {},
   "source": [
    "## 스택/큐 문제 - **주식가격**"
   ]
  },
  {
   "cell_type": "markdown",
   "metadata": {},
   "source": [
    "- 처음에 푼 답"
   ]
  },
  {
   "cell_type": "code",
   "execution_count": null,
   "metadata": {},
   "outputs": [],
   "source": [
    "from collections import deque\n",
    "\n",
    "def solution(prices):\n",
    "    answer = []\n",
    "    prices = deque(prices)\n",
    "\n",
    "    for price in prices:\n",
    "        count = 0\n",
    "        check = prices.popleft() \n",
    "        \n",
    "        for p in prices:\n",
    "            if p >= check:\n",
    "                count += 1\n",
    "        answer.append(count)\n",
    "    return answer"
   ]
  },
  {
   "cell_type": "markdown",
   "metadata": {},
   "source": [
    "prices에서 popleft()를 하면 길이가 계속 줄게 되서 'deque mutated during iteration'라는 오류가 뜸 -> while 문으로 바꿔서 풀기"
   ]
  },
  {
   "cell_type": "markdown",
   "metadata": {},
   "source": [
    "- 최종 제출 코드"
   ]
  },
  {
   "cell_type": "code",
   "execution_count": 23,
   "metadata": {},
   "outputs": [],
   "source": [
    "from collections import deque\n",
    "\n",
    "def solution(prices):\n",
    "    answer = []\n",
    "    prices = deque(prices)\n",
    "\n",
    "    while(1):\n",
    "        count = 0\n",
    "        if len(prices) == 0 : break\n",
    "        check = prices.popleft() \n",
    "        for p in prices:\n",
    "            if p < check:\n",
    "                count += 1\n",
    "                break\n",
    "            else:\n",
    "                count += 1\n",
    "        answer.append(count)\n",
    "\n",
    "    return answer"
   ]
  },
  {
   "cell_type": "markdown",
   "metadata": {},
   "source": [
    "비교 대상인 popleft()가 된 check 값과 뒤에 돌아야하는 for문 안의 p들을 비교할 때, prices의 check보다 크면 가격이 떨어지는게 아니니까 +1 해줌\n",
    "prices = [1,2,3,2,3] 에서 3 다음에 2가 나오게 될 경우도 1초 뒤 가격이 떨어진다고 표현되었기 때문에 +1을 해준 뒤에 뒤에 for문은 더이상 못 돌도록 break 걸기"
   ]
  },
  {
   "cell_type": "markdown",
   "metadata": {},
   "source": [
    "- 스택을 이용한 풀이"
   ]
  },
  {
   "cell_type": "code",
   "execution_count": null,
   "metadata": {},
   "outputs": [],
   "source": [
    "def solution(prices):\n",
    "    length = len(prices)\n",
    "    \n",
    "    # answer을 max값으로 초기화  \n",
    "    answer = [ i for i in range (length-1, -1, -1)]\n",
    "    \n",
    "    # 주식 가격이 떨어질 경우 찾기\n",
    "    stack = [0]\n",
    "    for i in range (1, length):\n",
    "        while stack and prices[stack[-1]] > prices[i]:\n",
    "            j = stack.pop()\n",
    "            answer[j] = i - j\n",
    "        stack.append(i)\n",
    "    return answer"
   ]
  }
 ],
 "metadata": {
  "kernelspec": {
   "display_name": "Python 3.10.4 ('study')",
   "language": "python",
   "name": "python3"
  },
  "language_info": {
   "codemirror_mode": {
    "name": "ipython",
    "version": 3
   },
   "file_extension": ".py",
   "mimetype": "text/x-python",
   "name": "python",
   "nbconvert_exporter": "python",
   "pygments_lexer": "ipython3",
   "version": "3.10.4"
  },
  "orig_nbformat": 4,
  "vscode": {
   "interpreter": {
    "hash": "d63f0eabca9117b5ff9e51c915fcf7e14b8913c050cc38b64c222d6cb4173bef"
   }
  }
 },
 "nbformat": 4,
 "nbformat_minor": 2
}
